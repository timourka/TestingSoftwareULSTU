{
 "cells": [
  {
   "cell_type": "code",
   "execution_count": 6,
   "metadata": {},
   "outputs": [],
   "source": [
    "from selenium import webdriver\n",
    "from selenium.webdriver.chrome.service import Service\n",
    "from selenium.webdriver.common.by import By\n",
    "from selenium.webdriver.common.keys import Keys\n",
    "from webdriver_manager.chrome import ChromeDriverManager\n",
    "from selenium.webdriver.support.ui import WebDriverWait\n",
    "from selenium.webdriver.support import expected_conditions as EC\n",
    "import time"
   ]
  },
  {
   "cell_type": "code",
   "execution_count": 13,
   "metadata": {},
   "outputs": [
    {
     "name": "stdout",
     "output_type": "stream",
     "text": [
      "тест пройден\n",
      "<selenium.webdriver.remote.webelement.WebElement (session=\"cd10f745ff9ce9506fa59d42f261c28d\", element=\"f.6B41524344A12C53780A46A1D36326EE.d.A25BF67A9D15A2A8FDEB038410C9931F.e.44\")>\n",
      "Тест пройден: страница не найдена (title содержит индикатор ошибки)\n",
      "Фактический title страницы: 'Page not found · GitHub · GitHub'\n"
     ]
    }
   ],
   "source": [
    "# Настройка Chrome WebDriver\n",
    "options = webdriver.ChromeOptions()\n",
    "#options.add_argument(\"--headless\")  # Без UI (можно убрать)\n",
    "options.add_argument(\"--no-sandbox\")\n",
    "options.add_argument(\"--disable-dev-shm-usage\")\n",
    "\n",
    "# Запуск WebDriver через Service\n",
    "service = Service(ChromeDriverManager().install())\n",
    "driver = webdriver.Chrome(service=service, options=options)\n",
    "\n",
    "# Открываем сайт\n",
    "driver.get(\"https://www.github.com/jakdsjkbgjbv\")\n",
    "\n",
    "try:\n",
    "    result = WebDriverWait(driver, 10).until(EC.visibility_of_element_located((By.XPATH, \"/html/body/div[1]/div[4]/main/div[1]/div[2]/img[1]\")))\n",
    "    print(\"тест пройден\")\n",
    "    print(result)\n",
    "except Exception as e:\n",
    "    print(\"ошибка\")\n",
    "    raise e\n",
    "    \n",
    "try:\n",
    "    # Проверяем title страницы\n",
    "    WebDriverWait(driver, 10).until(\n",
    "        lambda d: \"Page not found\" in d.title or \n",
    "                 \"404\" in d.title or\n",
    "                 \"Not found\" in d.title\n",
    "    )\n",
    "    print(\"Тест пройден: страница не найдена (title содержит индикатор ошибки)\")\n",
    "    print(f\"Фактический title страницы: '{driver.title}'\")\n",
    "except Exception as e:\n",
    "    print(\"Ошибка: страница найдена или title не содержит индикатор ошибки\")\n",
    "    print(f\"Фактический title страницы: '{driver.title}'\")\n",
    "    raise e"
   ]
  },
  {
   "cell_type": "code",
   "execution_count": 8,
   "metadata": {},
   "outputs": [],
   "source": [
    "driver.quit()"
   ]
  }
 ],
 "metadata": {
  "kernelspec": {
   "display_name": ".venv",
   "language": "python",
   "name": "python3"
  },
  "language_info": {
   "codemirror_mode": {
    "name": "ipython",
    "version": 3
   },
   "file_extension": ".py",
   "mimetype": "text/x-python",
   "name": "python",
   "nbconvert_exporter": "python",
   "pygments_lexer": "ipython3",
   "version": "3.13.2"
  }
 },
 "nbformat": 4,
 "nbformat_minor": 2
}
