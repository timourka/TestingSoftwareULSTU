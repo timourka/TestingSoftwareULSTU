{
 "cells": [
  {
   "cell_type": "code",
   "execution_count": 6,
   "metadata": {},
   "outputs": [],
   "source": [
    "from selenium import webdriver\n",
    "from selenium.webdriver.chrome.service import Service\n",
    "from selenium.webdriver.common.by import By\n",
    "from selenium.webdriver.common.keys import Keys\n",
    "from webdriver_manager.chrome import ChromeDriverManager\n",
    "from selenium.webdriver.support.ui import WebDriverWait\n",
    "from selenium.webdriver.support import expected_conditions as EC\n",
    "import time"
   ]
  },
  {
   "cell_type": "code",
   "execution_count": null,
   "metadata": {},
   "outputs": [
    {
     "name": "stdout",
     "output_type": "stream",
     "text": [
      "тест пройден\n",
      "<selenium.webdriver.remote.webelement.WebElement (session=\"1cc9ac6745b19ca1dface2542e7b19c2\", element=\"f.BED94D5EB7618A9317F218FC8FED2C7F.d.507B68B0BD3DCC85E39026AE49C98AD3.e.9\")>\n"
     ]
    }
   ],
   "source": [
    "# Настройка Chrome WebDriver\n",
    "options = webdriver.ChromeOptions()\n",
    "#options.add_argument(\"--headless\")  # Без UI (можно убрать)\n",
    "options.add_argument(\"--no-sandbox\")\n",
    "options.add_argument(\"--disable-dev-shm-usage\")\n",
    "\n",
    "# Запуск WebDriver через Service\n",
    "service = Service(ChromeDriverManager().install())\n",
    "driver = webdriver.Chrome(service=service, options=options)\n",
    "\n",
    "# Открываем сайт\n",
    "driver.get(\"https://www.github.com/jakdsjkbgjbv\")\n",
    "\n",
    "try:\n",
    "    result = WebDriverWait(driver, 10).until(EC.visibility_of_element_located((By.XPATH, \"/html/body/div[1]/div[4]/main/div[1]/div[2]/img[1]\")))\n",
    "    print(\"тест пройден\")\n",
    "    print(result)\n",
    "except Exception as e:\n",
    "    print(\"ошибка\")\n",
    "    raise e\n",
    "    \n",
    "try:\n",
    "    # Проверяем title страницы\n",
    "    WebDriverWait(driver, 10).until(\n",
    "        lambda d: \"Page not found\" in d.title or \n",
    "                 \"404\" in d.title or\n",
    "                 \"Not found\" in d.title\n",
    "    )\n",
    "    print(\"Тест пройден: страница не найдена (title содержит индикатор ошибки)\")\n",
    "    print(f\"Фактический title страницы: '{driver.title}'\")\n",
    "except Exception as e:\n",
    "    print(\"Ошибка: страница найдена или title не содержит индикатор ошибки\")\n",
    "    print(f\"Фактический title страницы: '{driver.title}'\")\n",
    "    raise e"
   ]
  },
  {
   "cell_type": "code",
   "execution_count": 8,
   "metadata": {},
   "outputs": [],
   "source": [
    "driver.quit()"
   ]
  }
 ],
 "metadata": {
  "kernelspec": {
   "display_name": ".venv",
   "language": "python",
   "name": "python3"
  },
  "language_info": {
   "codemirror_mode": {
    "name": "ipython",
    "version": 3
   },
   "file_extension": ".py",
   "mimetype": "text/x-python",
   "name": "python",
   "nbconvert_exporter": "python",
   "pygments_lexer": "ipython3",
   "version": "3.13.2"
  }
 },
 "nbformat": 4,
 "nbformat_minor": 2
}
