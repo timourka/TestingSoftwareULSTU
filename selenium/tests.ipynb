{
 "cells": [
  {
   "cell_type": "code",
   "execution_count": 43,
   "metadata": {},
   "outputs": [
    {
     "name": "stdout",
     "output_type": "stream",
     "text": [
      "Requirement already satisfied: selenium in c:\\testingsoftwareulstu\\.venv\\lib\\site-packages (4.30.0)\n",
      "Requirement already satisfied: pytest in c:\\testingsoftwareulstu\\.venv\\lib\\site-packages (8.3.5)\n",
      "Requirement already satisfied: webdriver-manager in c:\\testingsoftwareulstu\\.venv\\lib\\site-packages (4.0.2)\n",
      "Requirement already satisfied: urllib3<3,>=1.26 in c:\\testingsoftwareulstu\\.venv\\lib\\site-packages (from urllib3[socks]<3,>=1.26->selenium) (2.3.0)\n",
      "Requirement already satisfied: trio~=0.17 in c:\\testingsoftwareulstu\\.venv\\lib\\site-packages (from selenium) (0.29.0)\n",
      "Requirement already satisfied: trio-websocket~=0.9 in c:\\testingsoftwareulstu\\.venv\\lib\\site-packages (from selenium) (0.12.2)\n",
      "Requirement already satisfied: certifi>=2021.10.8 in c:\\testingsoftwareulstu\\.venv\\lib\\site-packages (from selenium) (2025.1.31)\n",
      "Requirement already satisfied: typing_extensions~=4.9 in c:\\testingsoftwareulstu\\.venv\\lib\\site-packages (from selenium) (4.12.2)\n",
      "Requirement already satisfied: websocket-client~=1.8 in c:\\testingsoftwareulstu\\.venv\\lib\\site-packages (from selenium) (1.8.0)\n",
      "Requirement already satisfied: colorama in c:\\testingsoftwareulstu\\.venv\\lib\\site-packages (from pytest) (0.4.6)\n",
      "Requirement already satisfied: iniconfig in c:\\testingsoftwareulstu\\.venv\\lib\\site-packages (from pytest) (2.1.0)\n",
      "Requirement already satisfied: packaging in c:\\testingsoftwareulstu\\.venv\\lib\\site-packages (from pytest) (24.2)\n",
      "Requirement already satisfied: pluggy<2,>=1.5 in c:\\testingsoftwareulstu\\.venv\\lib\\site-packages (from pytest) (1.5.0)\n",
      "Requirement already satisfied: requests in c:\\testingsoftwareulstu\\.venv\\lib\\site-packages (from webdriver-manager) (2.32.3)\n",
      "Requirement already satisfied: python-dotenv in c:\\testingsoftwareulstu\\.venv\\lib\\site-packages (from webdriver-manager) (1.0.1)\n",
      "Requirement already satisfied: attrs>=23.2.0 in c:\\testingsoftwareulstu\\.venv\\lib\\site-packages (from trio~=0.17->selenium) (25.3.0)\n",
      "Requirement already satisfied: sortedcontainers in c:\\testingsoftwareulstu\\.venv\\lib\\site-packages (from trio~=0.17->selenium) (2.4.0)\n",
      "Requirement already satisfied: idna in c:\\testingsoftwareulstu\\.venv\\lib\\site-packages (from trio~=0.17->selenium) (3.10)\n",
      "Requirement already satisfied: outcome in c:\\testingsoftwareulstu\\.venv\\lib\\site-packages (from trio~=0.17->selenium) (1.3.0.post0)\n",
      "Requirement already satisfied: sniffio>=1.3.0 in c:\\testingsoftwareulstu\\.venv\\lib\\site-packages (from trio~=0.17->selenium) (1.3.1)\n",
      "Requirement already satisfied: cffi>=1.14 in c:\\testingsoftwareulstu\\.venv\\lib\\site-packages (from trio~=0.17->selenium) (1.17.1)\n",
      "Requirement already satisfied: wsproto>=0.14 in c:\\testingsoftwareulstu\\.venv\\lib\\site-packages (from trio-websocket~=0.9->selenium) (1.2.0)\n",
      "Requirement already satisfied: pysocks!=1.5.7,<2.0,>=1.5.6 in c:\\testingsoftwareulstu\\.venv\\lib\\site-packages (from urllib3[socks]<3,>=1.26->selenium) (1.7.1)\n",
      "Requirement already satisfied: charset-normalizer<4,>=2 in c:\\testingsoftwareulstu\\.venv\\lib\\site-packages (from requests->webdriver-manager) (3.4.1)\n",
      "Requirement already satisfied: pycparser in c:\\testingsoftwareulstu\\.venv\\lib\\site-packages (from cffi>=1.14->trio~=0.17->selenium) (2.22)\n",
      "Requirement already satisfied: h11<1,>=0.9.0 in c:\\testingsoftwareulstu\\.venv\\lib\\site-packages (from wsproto>=0.14->trio-websocket~=0.9->selenium) (0.14.0)\n",
      "Note: you may need to restart the kernel to use updated packages.\n"
     ]
    }
   ],
   "source": [
    "pip install selenium pytest webdriver-manager\n"
   ]
  },
  {
   "cell_type": "code",
   "execution_count": 1,
   "metadata": {},
   "outputs": [],
   "source": [
    "from selenium import webdriver\n",
    "from selenium.webdriver.chrome.service import Service\n",
    "from selenium.webdriver.common.by import By\n",
    "from selenium.webdriver.common.keys import Keys\n",
    "from webdriver_manager.chrome import ChromeDriverManager\n",
    "from selenium.webdriver.support.ui import WebDriverWait\n",
    "from selenium.webdriver.support import expected_conditions as EC\n",
    "import time"
   ]
  },
  {
   "cell_type": "code",
   "execution_count": 2,
   "metadata": {},
   "outputs": [
    {
     "name": "stdout",
     "output_type": "stream",
     "text": [
      "✅ Сайт открыт успешно!\n"
     ]
    }
   ],
   "source": [
    "# Настройка Chrome WebDriver\n",
    "options = webdriver.ChromeOptions()\n",
    "#options.add_argument(\"--headless\")  # Без UI (можно убрать)\n",
    "options.add_argument(\"--no-sandbox\")\n",
    "options.add_argument(\"--disable-dev-shm-usage\")\n",
    "\n",
    "# Запуск WebDriver через Service\n",
    "service = Service(ChromeDriverManager().install())\n",
    "driver = webdriver.Chrome(service=service, options=options)\n",
    "\n",
    "# Открываем сайт\n",
    "driver.get(\"https://www.amediateka.ru\")\n",
    "print(\"✅ Сайт открыт успешно!\")"
   ]
  },
  {
   "cell_type": "code",
   "execution_count": 46,
   "metadata": {},
   "outputs": [
    {
     "name": "stdout",
     "output_type": "stream",
     "text": [
      "✅ Найдено 22 результатов!\n"
     ]
    }
   ],
   "source": [
    "def test_search_by_title():\n",
    "    try:\n",
    "        # Открываем страницу поиска\n",
    "        driver.get(\"https://www.amediateka.ru/search\")\n",
    "\n",
    "        # Ждём появление поля ввода\n",
    "        wait = WebDriverWait(driver, 10)\n",
    "        search_box = wait.until(EC.presence_of_element_located((By.CSS_SELECTOR, \".SearchInput_input__OVDm6 input\")))\n",
    "\n",
    "        # Вводим запрос\n",
    "        search_box.send_keys(\"Игра престолов\")\n",
    "        search_box.send_keys(Keys.RETURN)\n",
    "\n",
    "        # Ждём загрузку результатов\n",
    "        time.sleep(3)\n",
    "\n",
    "        # Проверяем, есть ли карточки фильмов\n",
    "        results = driver.find_elements(By.CSS_SELECTOR, \".CardItem_cardItem__goWuL\")\n",
    "        assert len(results) > 0, \"Ошибка: Результаты поиска не найдены!\"\n",
    "\n",
    "        print(f\"✅ Найдено {len(results)} результатов!\")\n",
    "    except Exception as e:\n",
    "        print(f\"❌ Ошибка в тесте поиска: {e}\")\n",
    "\n",
    "# Запускаем тест\n",
    "test_search_by_title()"
   ]
  },
  {
   "cell_type": "code",
   "execution_count": null,
   "metadata": {},
   "outputs": [
    {
     "name": "stdout",
     "output_type": "stream",
     "text": [
      "✅ Найдено 24 результатов!\n"
     ]
    }
   ],
   "source": [
    "def test_search_by_genre():\n",
    "    try:\n",
    "        # Открываем страницу поиска\n",
    "        driver.get(\"https://www.amediateka.ru/search\")\n",
    "\n",
    "        # Ждём появление поля ввода\n",
    "        wait = WebDriverWait(driver, 10)\n",
    "        search_box = wait.until(EC.presence_of_element_located((By.CSS_SELECTOR, \".SearchInput_input__OVDm6 input\")))\n",
    "\n",
    "        # Вводим запрос\n",
    "        search_box.send_keys(\"комедия\")\n",
    "        search_box.send_keys(Keys.RETURN)\n",
    "\n",
    "        # Ждём загрузку результатов\n",
    "        time.sleep(3)\n",
    "\n",
    "        # Проверяем, есть ли карточки фильмов\n",
    "        results = driver.find_elements(By.CSS_SELECTOR, \".CardItem_cardItem__goWuL\")\n",
    "        assert len(results) > 0, \"Ошибка: Результаты поиска не найдены!\"\n",
    "\n",
    "        print(f\"✅ Найдено {len(results)} результатов!\")\n",
    "    except Exception as e:\n",
    "        print(f\"❌ Ошибка в тесте поиска: {e}\")\n",
    "\n",
    "# Запускаем тест\n",
    "test_search_by_genre()"
   ]
  },
  {
   "cell_type": "code",
   "execution_count": 4,
   "metadata": {},
   "outputs": [
    {
     "name": "stdout",
     "output_type": "stream",
     "text": [
      "✅ Воспроизведение видео работает!\n"
     ]
    }
   ],
   "source": [
    "def test_video_playback():\n",
    "    try:\n",
    "        driver.get(\"https://www.amediateka.ru/watch/series_11215_silikonovaya-dolina\")\n",
    "        time.sleep(5)  # Ждем загрузки страницы (или можно заменить на явное ожидание)\n",
    "\n",
    "        # Ждем, пока кнопка для воспроизведения станет кликабельной\n",
    "        wait = WebDriverWait(driver, 10)\n",
    "        video_button = wait.until(EC.element_to_be_clickable((By.XPATH, \"/html/body/div/div/div[2]/div/main/div/div[1]/div[3]/div[3]/div[1]/button\")))\n",
    "        video_button.click()\n",
    "        \n",
    "        # Ждём, пока видео начнёт воспроизводиться (ждем появления video элемента)\n",
    "        time.sleep(5)\n",
    "\n",
    "        # Проверяем, что плеер отображается\n",
    "        player = driver.find_element(By.ID, \"amediaPlayer_html5_api\")\n",
    "        assert player.is_displayed(), \"Ошибка: Видео не отображается!\"\n",
    "\n",
    "        # Проверяем, что видео воспроизводится (paused == False)\n",
    "        is_paused = driver.execute_script(\"return document.getElementById('amediaPlayer_html5_api').paused;\")\n",
    "        assert not is_paused, \"Ошибка: Видео не воспроизводится!\"\n",
    "\n",
    "        # Проверяем, что прошло хотя бы 1 секунда видео\n",
    "        time.sleep(3)\n",
    "        current_time = driver.execute_script(\"return document.getElementById('amediaPlayer_html5_api').currentTime;\")\n",
    "        assert current_time > 0, \"Ошибка: Воспроизведение видео не началось!\"\n",
    "\n",
    "        print(\"✅ Воспроизведение видео работает!\")\n",
    "    except Exception as e:\n",
    "        print(f\"❌ Ошибка в тесте воспроизведения: {e}\")\n",
    "\n",
    "# Запускаем тест\n",
    "test_video_playback()"
   ]
  },
  {
   "cell_type": "code",
   "execution_count": 3,
   "metadata": {},
   "outputs": [
    {
     "name": "stdout",
     "output_type": "stream",
     "text": [
      "✅ Переключились в iframe оплаты\n",
      "✅ Негативный тест на оплату подписки успешно выполнен!\n"
     ]
    }
   ],
   "source": [
    "спать = 10\n",
    "def test_subscription_payment():\n",
    "    try:\n",
    "        driver.get(\"https://www.amediateka.ru/\")\n",
    "        wait = WebDriverWait(driver, 10)\n",
    "\n",
    "        # 1️⃣ Нажимаем на кнопку входа\n",
    "        login_button = wait.until(EC.element_to_be_clickable((By.XPATH, \"/html/body/div/div/div/div/header/div/div[2]/a[1]\")))\n",
    "        login_button.click()\n",
    "\n",
    "        # 2️⃣ Вводим email\n",
    "        email_input = wait.until(EC.visibility_of_element_located((By.XPATH, \"/html/body/div/div/div/article/div[2]/div[2]/div[1]/input\")))\n",
    "        email_input.send_keys(\"timourkot@gmail.com\")\n",
    "\n",
    "        # 3️⃣ Нажимаем \"Продолжить\"\n",
    "        continue_button = wait.until(EC.element_to_be_clickable((By.XPATH, \"/html/body/div/div/div/article/div[2]/div[2]/button\")))\n",
    "        continue_button.click()\n",
    "\n",
    "        # 4️⃣ Вводим пароль\n",
    "        password_input = wait.until(EC.visibility_of_element_located((By.XPATH, \"/html/body/div/div/div/article/div[2]/div[3]/div[1]/input\")))\n",
    "        password_input.send_keys(\"asdfghjkl\")\n",
    "\n",
    "        # 5️⃣ Нажимаем \"Войти\"\n",
    "        login_submit_button = wait.until(EC.element_to_be_clickable((By.XPATH, \"/html/body/div/div/div/article/div[2]/div[3]/button\")))\n",
    "        login_submit_button.click()\n",
    "\n",
    "        # 6️⃣ Открываем меню пользователя\n",
    "        profile_menu = wait.until(EC.element_to_be_clickable((By.XPATH, \"/html/body/div/div/div/div/header/div/div[2]/div[3]\")))\n",
    "        profile_menu.click()\n",
    "\n",
    "        # 7️⃣ Нажимаем \"Оформить подписку\"\n",
    "        subscription_button = wait.until(EC.element_to_be_clickable((By.XPATH, \"/html/body/div/div/div/div/header/div[2]/article/div[2]/div[2]/button\")))\n",
    "        subscription_button.click()\n",
    "\n",
    "        # 8️⃣ Выбираем подписку на 90 дней\n",
    "        subscription_plan = wait.until(EC.element_to_be_clickable((By.XPATH, \"/html/body/div/div/div/article/div[3]/div/ul/li[4]\")))\n",
    "        subscription_plan.click()\n",
    "\n",
    "        # 9️⃣ Нажимаем кнопку \"Оформить\"\n",
    "        checkout_button = wait.until(EC.element_to_be_clickable((By.XPATH, \"/html/body/div/div/div/article/div[3]/div/div/button\")))\n",
    "        checkout_button.click()\n",
    "\n",
    "        #  🔟 Ждём загрузки платежной страницы и переключаемся в iframe\n",
    "        wait.until(EC.frame_to_be_available_and_switch_to_it((By.ID, \"payture-iframe\")))\n",
    "        print(\"✅ Переключились в iframe оплаты\")\n",
    "\n",
    "        # 1️⃣1️⃣ Вводим номер карты\n",
    "        card_number_input = wait.until(EC.visibility_of_element_located((By.ID, \"cardNumber\")))\n",
    "        card_number_input.send_keys(\"3457 1294 6671 8433\")\n",
    "\n",
    "        # 1️⃣2️⃣ Вводим месяц\n",
    "        month_input = wait.until(EC.visibility_of_element_located((By.XPATH, \"/html/body/div[2]/form/div[1]/div[2]/div[1]/div[2]/input[1]\")))\n",
    "        month_input.send_keys(\"11\")\n",
    "\n",
    "        # 1️⃣3️⃣ Вводим год\n",
    "        year_input = wait.until(EC.visibility_of_element_located((By.XPATH, \"/html/body/div[2]/form/div[1]/div[2]/div[1]/div[2]/input[2]\")))\n",
    "        year_input.send_keys(\"29\")\n",
    "        \n",
    "        # 1️⃣3️⃣ Вводим ссв\n",
    "        ccs_input = wait.until(EC.visibility_of_element_located((By.XPATH, \"/html/body/div[2]/form/div[1]/div[2]/div[2]/input\")))\n",
    "        ccs_input.send_keys(\"123\")\n",
    "\n",
    "        # 1️⃣4️⃣ Отключаем чекбокс \"Запомнить карту\"\n",
    "        remember_checkbox = wait.until(EC.element_to_be_clickable((By.XPATH, \"/html/body/div[2]/form/div[2]/label/div\")))\n",
    "        driver.execute_script(\"arguments[0].click();\", remember_checkbox)\n",
    "\n",
    "        # 1️⃣5️⃣ Нажимаем кнопку \"Оплатить\"\n",
    "        pay_button = wait.until(EC.element_to_be_clickable((By.XPATH, \"/html/body/div[2]/form/button\")))\n",
    "        pay_button.click()\n",
    "\n",
    "        # 1️⃣6️⃣ Возвращаемся в основной контент страницы\n",
    "        driver.switch_to.default_content()\n",
    "\n",
    "        # 1️⃣7️⃣ Проверяем появление ошибки \"Ошибка оплаты\"\n",
    "        error_message = wait.until(EC.visibility_of_element_located((By.XPATH, \"//h2[contains(@class, 'ErrorScreen_title__x2TKE')]\")))\n",
    "        assert error_message.text == \"Ошибка оплаты\", \"❌ Ожидаемая ошибка оплаты не появилась!\"\n",
    "        print(\"✅ Негативный тест на оплату подписки успешно выполнен!\")\n",
    "\n",
    "    except Exception as e:\n",
    "        print(f\"❌ Ошибка в тесте оформления подписки: {e}\")\n",
    "\n",
    "# ✅ Запускаем тест\n",
    "test_subscription_payment()"
   ]
  },
  {
   "cell_type": "code",
   "execution_count": null,
   "metadata": {},
   "outputs": [],
   "source": [
    "driver.quit()\n",
    "print(\"Браузер закрыт.\")"
   ]
  }
 ],
 "metadata": {
  "kernelspec": {
   "display_name": ".venv",
   "language": "python",
   "name": "python3"
  },
  "language_info": {
   "codemirror_mode": {
    "name": "ipython",
    "version": 3
   },
   "file_extension": ".py",
   "mimetype": "text/x-python",
   "name": "python",
   "nbconvert_exporter": "python",
   "pygments_lexer": "ipython3",
   "version": "3.13.2"
  }
 },
 "nbformat": 4,
 "nbformat_minor": 2
}
